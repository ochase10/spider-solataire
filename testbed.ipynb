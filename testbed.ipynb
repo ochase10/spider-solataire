{
 "cells": [
  {
   "cell_type": "code",
   "execution_count": null,
   "id": "5f2f08d7-3a48-4fa2-9fdb-1912171b4adb",
   "metadata": {},
   "outputs": [],
   "source": [
    "class Card():\n",
    "    '''\n",
    "    Basic class for playing card object\n",
    "    '''\n",
    "\n",
    "    _ALLOWED_SUITS = frozenset(['H', 'D', 'S', 'C'])\n",
    "    _ALLOWED_VALUES = frozenset(['A', '2', '3', '4', '5', '6', '7', '8', '9', '10', 'J', 'Q', 'K'])\n",
    "    \n",
    "    def __init__(self, suit, value):\n",
    "        try:\n",
    "            suit = suit.upper()\n",
    "            value = value.upper()\n",
    "        except AttributeError:\n",
    "            raise ValueError(\"Suit and Value must both be strings in the constructor!\")\n",
    "        if suit.upper() not in _ALLOWED_SUITS:\n",
    "            raise ValueError(\"Suit must be one of H, D, S, or C!\")\n",
    "        if value.upper() not in _ALLOWED_VALUES:\n",
    "            raise ValueError(\"Must be a valid card value!\")\n",
    "        \n",
    "        self._suit = suit\n",
    "        self._value = value\n",
    "\n",
    "    @property\n",
    "    def suit(self):\n",
    "        return self._suit\n",
    "\n",
    "    @property\n",
    "    def value(self):\n",
    "        return self._value\n",
    "\n",
    "\n",
    "class Deck():\n",
    "    '''\n",
    "    Basic class for a Deck object\n",
    "    '''"
   ]
  },
  {
   "cell_type": "code",
   "execution_count": null,
   "id": "1fd84f2b-7082-4689-aab3-2dee71afd12b",
   "metadata": {},
   "outputs": [],
   "source": []
  }
 ],
 "metadata": {
  "kernelspec": {
   "display_name": "Python 3 (ipykernel)",
   "language": "python",
   "name": "python3"
  },
  "language_info": {
   "codemirror_mode": {
    "name": "ipython",
    "version": 3
   },
   "file_extension": ".py",
   "mimetype": "text/x-python",
   "name": "python",
   "nbconvert_exporter": "python",
   "pygments_lexer": "ipython3",
   "version": "3.11.9"
  }
 },
 "nbformat": 4,
 "nbformat_minor": 5
}
